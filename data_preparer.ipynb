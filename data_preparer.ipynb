{
 "cells": [
  {
   "cell_type": "code",
   "execution_count": 24,
   "metadata": {},
   "outputs": [
    {
     "data": {
      "text/html": [
       "<div>\n",
       "<style scoped>\n",
       "    .dataframe tbody tr th:only-of-type {\n",
       "        vertical-align: middle;\n",
       "    }\n",
       "\n",
       "    .dataframe tbody tr th {\n",
       "        vertical-align: top;\n",
       "    }\n",
       "\n",
       "    .dataframe thead th {\n",
       "        text-align: right;\n",
       "    }\n",
       "</style>\n",
       "<table border=\"1\" class=\"dataframe\">\n",
       "  <thead>\n",
       "    <tr style=\"text-align: right;\">\n",
       "      <th></th>\n",
       "      <th>phone</th>\n",
       "      <th>phone_cleaned</th>\n",
       "      <th>phone_clean_with_country_code</th>\n",
       "    </tr>\n",
       "  </thead>\n",
       "  <tbody>\n",
       "    <tr>\n",
       "      <th>0</th>\n",
       "      <td>9174123069</td>\n",
       "      <td>9174123069</td>\n",
       "      <td>19174123069</td>\n",
       "    </tr>\n",
       "    <tr>\n",
       "      <th>1</th>\n",
       "      <td>(646) 465 - 4404</td>\n",
       "      <td>6464654404</td>\n",
       "      <td>16464654404</td>\n",
       "    </tr>\n",
       "    <tr>\n",
       "      <th>2</th>\n",
       "      <td>6313597959</td>\n",
       "      <td>6313597959</td>\n",
       "      <td>16313597959</td>\n",
       "    </tr>\n",
       "    <tr>\n",
       "      <th>3</th>\n",
       "      <td>3474842296</td>\n",
       "      <td>3474842296</td>\n",
       "      <td>13474842296</td>\n",
       "    </tr>\n",
       "    <tr>\n",
       "      <th>4</th>\n",
       "      <td>(347) 806-1780</td>\n",
       "      <td>3478061780</td>\n",
       "      <td>13478061780</td>\n",
       "    </tr>\n",
       "  </tbody>\n",
       "</table>\n",
       "</div>"
      ],
      "text/plain": [
       "              phone phone_cleaned phone_clean_with_country_code\n",
       "0        9174123069    9174123069                   19174123069\n",
       "1  (646) 465 - 4404    6464654404                   16464654404\n",
       "2        6313597959    6313597959                   16313597959\n",
       "3        3474842296    3474842296                   13474842296\n",
       "4    (347) 806-1780    3478061780                   13478061780"
      ]
     },
     "execution_count": 24,
     "metadata": {},
     "output_type": "execute_result"
    }
   ],
   "source": [
    "import pandas as pd\n",
    "import math\n",
    "\n",
    "path = \"./fifth_2023_tournament_contacts_phone.csv\"\n",
    "stage_sms = \"./sms_stage.txt\"\n",
    "\n",
    "MESSAGE = \"\"\"\n",
    "    TEST MESSAGE\n",
    "\"\"\"\n",
    "\n",
    "df = pd.read_csv(path)\n",
    "df[\"phone_cleaned\"] = df[\"phone\"].apply(lambda x: (str(x).replace(\"+\", \"\")\n",
    "                                                         .replace(\"(\", \"\")\n",
    "                                                         .replace(\")\", \"\")\n",
    "                                                         .replace(\" \", \"\")\n",
    "                                                         .replace(\"-\", \"\")))\n",
    "df[\"phone_clean_with_country_code\"] = df[\"phone_cleaned\"].apply(\n",
    "lambda x: \"1\" + str(x) if len(str(x)) == 10 else str(x)\n",
    ")\n",
    "\n",
    "df.head()"
   ]
  },
  {
   "cell_type": "code",
   "execution_count": 27,
   "metadata": {},
   "outputs": [
    {
     "data": {
      "text/plain": [
       "'19174123069 16464654404 16313597959 13474842296 13478061780 13477618738 13475495301 13475495301 17183087930 13472499176 19172442439 15167245049 15854513603 15854892342 15854513603 13476505486 13472869648 19176098116 16462472051 16462472051 13477746516 13477550238 16315263852 18622329379 19177967905 19175207329 18173602704 19175396116 16313597959 13475366154 16463714701 16463714701 19295515453 19295515453 17183087930 13472499176 19172442439 15168007030 15854513603 15854513603 15854513603 13479683376 13472869648 16466831781 19292390398 19292390398 13477746516 16465122721 16315263852 13472499176'"
      ]
     },
     "execution_count": 27,
     "metadata": {},
     "output_type": "execute_result"
    }
   ],
   "source": [
    "FORMATTED_PHONES = \" \".join(df[\"phone_clean_with_country_code\"])\n",
    "FORMATTED_PHONES"
   ]
  },
  {
   "cell_type": "code",
   "execution_count": null,
   "metadata": {},
   "outputs": [],
   "source": [
    "recipients=\"12348176903 12146998640\"\n",
    "message=\"Testing message\""
   ]
  },
  {
   "cell_type": "code",
   "execution_count": null,
   "metadata": {},
   "outputs": [],
   "source": []
  },
  {
   "cell_type": "code",
   "execution_count": null,
   "metadata": {},
   "outputs": [],
   "source": []
  },
  {
   "cell_type": "code",
   "execution_count": null,
   "metadata": {},
   "outputs": [],
   "source": [
    "with open(stage_sms, \"w\") as f:\n",
    "    f.writelines()"
   ]
  },
  {
   "cell_type": "code",
   "execution_count": null,
   "metadata": {},
   "outputs": [],
   "source": []
  }
 ],
 "metadata": {
  "kernelspec": {
   "display_name": "Python 3",
   "language": "python",
   "name": "python3"
  },
  "language_info": {
   "codemirror_mode": {
    "name": "ipython",
    "version": 3
   },
   "file_extension": ".py",
   "mimetype": "text/x-python",
   "name": "python",
   "nbconvert_exporter": "python",
   "pygments_lexer": "ipython3",
   "version": "3.8.5"
  }
 },
 "nbformat": 4,
 "nbformat_minor": 4
}
